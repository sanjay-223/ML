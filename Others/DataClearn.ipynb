{
 "cells": [
  {
   "cell_type": "code",
   "execution_count": 1,
   "id": "8292bc13-c0ba-4773-ab28-eaa333be3b27",
   "metadata": {},
   "outputs": [],
   "source": [
    "import pandas as pd"
   ]
  },
  {
   "cell_type": "code",
   "execution_count": 4,
   "id": "1dc9b234-24ad-4894-a04c-aea045f57b3a",
   "metadata": {},
   "outputs": [],
   "source": [
    "df = pd.read_csv('./Lexical_Features.csv')"
   ]
  },
  {
   "cell_type": "code",
   "execution_count": 6,
   "id": "eb70e3f5-a74d-4371-beb1-0b53164c7782",
   "metadata": {},
   "outputs": [
    {
     "data": {
      "text/plain": [
       "Index(['url', 'host_name', 'url_length', 'url_scheme', 'path_length',\n",
       "       'ip_present', 'number_of_digits', 'number_of_parameters',\n",
       "       'number_of_fragments', 'is_url_encoded', 'number_encoded_char',\n",
       "       'number_of_subdirectories', 'host_length', 'number_of_periods',\n",
       "       'has_client', 'has_admin', 'has_server', 'has_login',\n",
       "       'number_of_dashes', 'have_at_sign', 'is_tiny_url', 'get_tld',\n",
       "       'number_of_subdomains_and_extensions', 'number_of_spaces',\n",
       "       'number_of_zeros', 'is_url_single_character_directory',\n",
       "       'number_of_uppercase', 'number_of_lowercase', 'ratio_upper_to_lower',\n",
       "       'number_of_double_slashes', 'target'],\n",
       "      dtype='object')"
      ]
     },
     "execution_count": 6,
     "metadata": {},
     "output_type": "execute_result"
    }
   ],
   "source": [
    "df.columns"
   ]
  },
  {
   "cell_type": "code",
   "execution_count": 10,
   "id": "764fbf08-78c6-4dd6-923e-669ebee1b248",
   "metadata": {},
   "outputs": [
    {
     "name": "stdout",
     "output_type": "stream",
     "text": [
      "<class 'pandas.core.frame.DataFrame'>\n",
      "RangeIndex: 58692 entries, 0 to 58691\n",
      "Data columns (total 31 columns):\n",
      " #   Column                               Non-Null Count  Dtype  \n",
      "---  ------                               --------------  -----  \n",
      " 0   url                                  58692 non-null  object \n",
      " 1   host_name                            58692 non-null  object \n",
      " 2   url_length                           58692 non-null  int64  \n",
      " 3   url_scheme                           58692 non-null  object \n",
      " 4   path_length                          58692 non-null  int64  \n",
      " 5   ip_present                           58692 non-null  int64  \n",
      " 6   number_of_digits                     58692 non-null  int64  \n",
      " 7   number_of_parameters                 58692 non-null  int64  \n",
      " 8   number_of_fragments                  58692 non-null  int64  \n",
      " 9   is_url_encoded                       58692 non-null  bool   \n",
      " 10  number_encoded_char                  58692 non-null  int64  \n",
      " 11  number_of_subdirectories             58692 non-null  int64  \n",
      " 12  host_length                          58692 non-null  int64  \n",
      " 13  number_of_periods                    58692 non-null  int64  \n",
      " 14  has_client                           58692 non-null  bool   \n",
      " 15  has_admin                            58692 non-null  bool   \n",
      " 16  has_server                           58692 non-null  bool   \n",
      " 17  has_login                            58692 non-null  bool   \n",
      " 18  number_of_dashes                     58692 non-null  int64  \n",
      " 19  have_at_sign                         58692 non-null  bool   \n",
      " 20  is_tiny_url                          58692 non-null  int64  \n",
      " 21  get_tld                              58692 non-null  object \n",
      " 22  number_of_subdomains_and_extensions  58692 non-null  int64  \n",
      " 23  number_of_spaces                     58692 non-null  int64  \n",
      " 24  number_of_zeros                      58692 non-null  int64  \n",
      " 25  is_url_single_character_directory    58692 non-null  int64  \n",
      " 26  number_of_uppercase                  58692 non-null  int64  \n",
      " 27  number_of_lowercase                  58692 non-null  int64  \n",
      " 28  ratio_upper_to_lower                 58692 non-null  float64\n",
      " 29  number_of_double_slashes             58692 non-null  int64  \n",
      " 30  target                               58692 non-null  int64  \n",
      "dtypes: bool(6), float64(1), int64(20), object(4)\n",
      "memory usage: 11.5+ MB\n"
     ]
    }
   ],
   "source": [
    "df.info()"
   ]
  },
  {
   "cell_type": "code",
   "execution_count": 11,
   "id": "87937128-4a18-4acc-8cde-032c868179d0",
   "metadata": {},
   "outputs": [],
   "source": [
    "temp = df.select_dtypes(exclude=['object'])"
   ]
  },
  {
   "cell_type": "code",
   "execution_count": 13,
   "id": "99510199-8355-45ae-9b92-e5dc9fd0f8e3",
   "metadata": {},
   "outputs": [
    {
     "name": "stdout",
     "output_type": "stream",
     "text": [
      "<class 'pandas.core.frame.DataFrame'>\n",
      "RangeIndex: 58692 entries, 0 to 58691\n",
      "Data columns (total 27 columns):\n",
      " #   Column                               Non-Null Count  Dtype  \n",
      "---  ------                               --------------  -----  \n",
      " 0   url_length                           58692 non-null  int64  \n",
      " 1   path_length                          58692 non-null  int64  \n",
      " 2   ip_present                           58692 non-null  int64  \n",
      " 3   number_of_digits                     58692 non-null  int64  \n",
      " 4   number_of_parameters                 58692 non-null  int64  \n",
      " 5   number_of_fragments                  58692 non-null  int64  \n",
      " 6   is_url_encoded                       58692 non-null  bool   \n",
      " 7   number_encoded_char                  58692 non-null  int64  \n",
      " 8   number_of_subdirectories             58692 non-null  int64  \n",
      " 9   host_length                          58692 non-null  int64  \n",
      " 10  number_of_periods                    58692 non-null  int64  \n",
      " 11  has_client                           58692 non-null  bool   \n",
      " 12  has_admin                            58692 non-null  bool   \n",
      " 13  has_server                           58692 non-null  bool   \n",
      " 14  has_login                            58692 non-null  bool   \n",
      " 15  number_of_dashes                     58692 non-null  int64  \n",
      " 16  have_at_sign                         58692 non-null  bool   \n",
      " 17  is_tiny_url                          58692 non-null  int64  \n",
      " 18  number_of_subdomains_and_extensions  58692 non-null  int64  \n",
      " 19  number_of_spaces                     58692 non-null  int64  \n",
      " 20  number_of_zeros                      58692 non-null  int64  \n",
      " 21  is_url_single_character_directory    58692 non-null  int64  \n",
      " 22  number_of_uppercase                  58692 non-null  int64  \n",
      " 23  number_of_lowercase                  58692 non-null  int64  \n",
      " 24  ratio_upper_to_lower                 58692 non-null  float64\n",
      " 25  number_of_double_slashes             58692 non-null  int64  \n",
      " 26  target                               58692 non-null  int64  \n",
      "dtypes: bool(6), float64(1), int64(20)\n",
      "memory usage: 9.7 MB\n"
     ]
    }
   ],
   "source": [
    "temp.info()"
   ]
  },
  {
   "cell_type": "code",
   "execution_count": 16,
   "id": "9b407d35-0510-4379-90f0-32c57e10fe38",
   "metadata": {},
   "outputs": [
    {
     "data": {
      "text/plain": [
       "0    14673\n",
       "2    14673\n",
       "1    14673\n",
       "3    14673\n",
       "Name: target, dtype: int64"
      ]
     },
     "execution_count": 16,
     "metadata": {},
     "output_type": "execute_result"
    }
   ],
   "source": [
    "df.target.value_counts()"
   ]
  },
  {
   "cell_type": "code",
   "execution_count": null,
   "id": "8f378c3a-bfbc-4387-8d84-1bb3e0455e14",
   "metadata": {},
   "outputs": [],
   "source": [
    "df.target.replace(to_replace=lambda x: 1 if x != 0 else x)"
   ]
  },
  {
   "cell_type": "code",
   "execution_count": 17,
   "id": "860dbf2c-5268-427c-9afe-93c38bad783a",
   "metadata": {},
   "outputs": [],
   "source": [
    "logreg = df[df['target'].isin([2, 3]) == False]"
   ]
  },
  {
   "cell_type": "code",
   "execution_count": 22,
   "id": "db1355f7-d5dd-4f6b-b0fb-4a99bb8083e9",
   "metadata": {},
   "outputs": [],
   "source": [
    "logreg = logreg.select_dtypes(exclude=['object'])"
   ]
  },
  {
   "cell_type": "code",
   "execution_count": 23,
   "id": "e3892c4e-6836-4585-827f-dc5440534d6a",
   "metadata": {},
   "outputs": [
    {
     "data": {
      "text/plain": [
       "(29346, 27)"
      ]
     },
     "execution_count": 23,
     "metadata": {},
     "output_type": "execute_result"
    }
   ],
   "source": [
    "logreg.shape"
   ]
  },
  {
   "cell_type": "code",
   "execution_count": 24,
   "id": "8de0ec5d-f89a-4a8c-9d45-f4dbc2493242",
   "metadata": {},
   "outputs": [
    {
     "data": {
      "text/plain": [
       "0    14673\n",
       "1    14673\n",
       "Name: target, dtype: int64"
      ]
     },
     "execution_count": 24,
     "metadata": {},
     "output_type": "execute_result"
    }
   ],
   "source": [
    "logreg.target.value_counts()"
   ]
  },
  {
   "cell_type": "code",
   "execution_count": 32,
   "id": "d901adfc-153e-4f0f-98ea-3b5da24457ae",
   "metadata": {},
   "outputs": [],
   "source": [
    "logreg.to_csv(\"URL_data.csv\",index=False)"
   ]
  },
  {
   "cell_type": "code",
   "execution_count": 28,
   "id": "dabc6ba4-408c-4bce-b7f3-a1ddfad8d470",
   "metadata": {},
   "outputs": [
    {
     "data": {
      "text/plain": [
       "Index(['url_length', 'path_length', 'ip_present', 'number_of_digits',\n",
       "       'number_of_parameters', 'number_of_fragments', 'is_url_encoded',\n",
       "       'number_encoded_char', 'number_of_subdirectories', 'host_length',\n",
       "       'number_of_periods', 'has_client', 'has_admin', 'has_server',\n",
       "       'has_login', 'number_of_dashes', 'have_at_sign', 'is_tiny_url',\n",
       "       'number_of_subdomains_and_extensions', 'number_of_spaces',\n",
       "       'number_of_zeros', 'is_url_single_character_directory',\n",
       "       'number_of_uppercase', 'number_of_lowercase', 'ratio_upper_to_lower',\n",
       "       'number_of_double_slashes', 'target'],\n",
       "      dtype='object')"
      ]
     },
     "execution_count": 28,
     "metadata": {},
     "output_type": "execute_result"
    }
   ],
   "source": [
    "logreg.columns"
   ]
  },
  {
   "cell_type": "code",
   "execution_count": 29,
   "id": "d3443d24-f250-4a81-afec-bbfe11cafb70",
   "metadata": {},
   "outputs": [],
   "source": [
    "logreg.drop(columns=['is_url_single_character_directory','number_of_subdomains_and_extensions', 'ratio_upper_to_lower','number_of_subdirectories'],inplace=True)"
   ]
  },
  {
   "cell_type": "code",
   "execution_count": 31,
   "id": "18bdbe32-dfae-40cd-bf8b-af97a04805fc",
   "metadata": {},
   "outputs": [],
   "source": [
    "for col in logreg.select_dtypes(include=bool):\n",
    "    logreg[col] = logreg[col].astype(int)"
   ]
  },
  {
   "cell_type": "code",
   "execution_count": 36,
   "id": "9f08002f-666a-4c34-a342-efec6dc2a71d",
   "metadata": {},
   "outputs": [
    {
     "data": {
      "text/plain": [
       "0    29057\n",
       "1      289\n",
       "Name: is_url_encoded, dtype: int64"
      ]
     },
     "execution_count": 36,
     "metadata": {},
     "output_type": "execute_result"
    }
   ],
   "source": [
    "logreg.is_url_encoded.value_counts()"
   ]
  },
  {
   "cell_type": "code",
   "execution_count": null,
   "id": "a1b6c65f-1d7a-4c84-ac61-f8afd1bd02d5",
   "metadata": {},
   "outputs": [],
   "source": []
  }
 ],
 "metadata": {
  "kernelspec": {
   "display_name": "Python 3 (ipykernel)",
   "language": "python",
   "name": "python3"
  },
  "language_info": {
   "codemirror_mode": {
    "name": "ipython",
    "version": 3
   },
   "file_extension": ".py",
   "mimetype": "text/x-python",
   "name": "python",
   "nbconvert_exporter": "python",
   "pygments_lexer": "ipython3",
   "version": "3.11.5"
  }
 },
 "nbformat": 4,
 "nbformat_minor": 5
}
